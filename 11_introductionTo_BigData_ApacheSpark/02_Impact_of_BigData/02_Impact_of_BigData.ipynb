{
 "cells": [
  {
   "cell_type": "markdown",
   "source": [
    "# Impact of Big Data\n",
    "## Objective\n",
    "\n",
    "1. List examples of Big Data related technologies.\n",
    "2. Explain the impact of Big Data on businesses and people.\n",
    "3. Describe the Internet of Things (IoT) and its impact on Big Data.\n",
    "\n",
    "## Generating and using Big Data\n",
    "Big Data is one of the most important subjects of this century. Yet globally, millions of people are generating and using Big Data without necessarily being aware of it. This personal data in the form of photos, videos, and text that people send to each other forms the bulk of data collected by consumer goods companies.\n",
    "\n"
   ],
   "metadata": {
    "collapsed": false,
    "pycharm": {
     "name": "#%% md\n"
    }
   }
  }
 ],
 "metadata": {
  "kernelspec": {
   "display_name": "Python 3",
   "language": "python",
   "name": "python3"
  },
  "language_info": {
   "codemirror_mode": {
    "name": "ipython",
    "version": 2
   },
   "file_extension": ".py",
   "mimetype": "text/x-python",
   "name": "python",
   "nbconvert_exporter": "python",
   "pygments_lexer": "ipython2",
   "version": "2.7.6"
  }
 },
 "nbformat": 4,
 "nbformat_minor": 0
}