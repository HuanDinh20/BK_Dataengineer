{
 "cells": [
  {
   "cell_type": "markdown",
   "source": [
    "# Introduction\n",
    "\n",
    "The latest statistics report that the accumulated world’s data will grow from 4.4 zettabytes to 44 zettabytes, with much of that data classified as Big Data. Revenues based on Big Data analytics are projected to increase to $103 billion by 2027. Understandably, organizations across industries want to harness the competitive advantages of Big Data analytics. This course provides you with the foundational knowledge and hands-on lab experience you need to understand what Big Data is and learn how organizations use Apache Hadoop, Apache Spark, including Apache Spark SQL, and Kubernetes to expedite and optimize Big Data processing."
   ],
   "metadata": {
    "collapsed": false,
    "pycharm": {
     "name": "#%% md\n"
    }
   }
  },
  {
   "cell_type": "code",
   "execution_count": null,
   "outputs": [],
   "source": [],
   "metadata": {
    "collapsed": false,
    "pycharm": {
     "name": "#%%\n"
    }
   }
  }
 ],
 "metadata": {
  "kernelspec": {
   "display_name": "Python 3",
   "language": "python",
   "name": "python3"
  },
  "language_info": {
   "codemirror_mode": {
    "name": "ipython",
    "version": 2
   },
   "file_extension": ".py",
   "mimetype": "text/x-python",
   "name": "python",
   "nbconvert_exporter": "python",
   "pygments_lexer": "ipython2",
   "version": "2.7.6"
  }
 },
 "nbformat": 4,
 "nbformat_minor": 0
}